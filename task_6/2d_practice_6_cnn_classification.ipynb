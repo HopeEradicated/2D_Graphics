{
 "cells": [
  {
   "cell_type": "code",
   "execution_count": 2,
   "id": "b500486c",
   "metadata": {},
   "outputs": [],
   "source": [
    "# Модернизировать генератор данных, позволяющий на выхоле предоставлять следующую информацию:\n",
    "# - наличие/отсутствие машин на изображении\n",
    "# - количество машин на изображении\n",
    "\n",
    "# МВыберите архитектуру нейронной сети, натренируйте модель для решения каждой из сформулированных задач.\n",
    "# визуализируйте результаты, полученные в ходе тренировки.\n",
    "# визуализируйте результаты исполнения моделей"
   ]
  }
 ],
 "metadata": {
  "kernelspec": {
   "display_name": "Python 3 (ipykernel)",
   "language": "python",
   "name": "python3"
  },
  "language_info": {
   "codemirror_mode": {
    "name": "ipython",
    "version": 3
   },
   "file_extension": ".py",
   "mimetype": "text/x-python",
   "name": "python",
   "nbconvert_exporter": "python",
   "pygments_lexer": "ipython3",
   "version": "3.12.8"
  }
 },
 "nbformat": 4,
 "nbformat_minor": 5
}
